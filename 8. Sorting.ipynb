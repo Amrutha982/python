{
 "cells": [
  {
   "cell_type": "code",
   "execution_count": 1,
   "metadata": {
    "ExecuteTime": {
     "end_time": "2021-09-13T03:43:35.955989Z",
     "start_time": "2021-09-13T03:43:35.934992Z"
    }
   },
   "outputs": [],
   "source": [
    "li = [9, 1, 8, 2, 7, 3, 6, 4, 5]"
   ]
  },
  {
   "cell_type": "code",
   "execution_count": 2,
   "metadata": {
    "ExecuteTime": {
     "end_time": "2021-09-13T03:43:36.820115Z",
     "start_time": "2021-09-13T03:43:36.816097Z"
    }
   },
   "outputs": [],
   "source": [
    "s_li = sorted(li) # NON-INPLACE SORTING"
   ]
  },
  {
   "cell_type": "code",
   "execution_count": 3,
   "metadata": {
    "ExecuteTime": {
     "end_time": "2021-09-13T03:43:37.684754Z",
     "start_time": "2021-09-13T03:43:37.662754Z"
    }
   },
   "outputs": [
    {
     "name": "stdout",
     "output_type": "stream",
     "text": [
      "Original List        :  [9, 1, 8, 2, 7, 3, 6, 4, 5]\n",
      "Sorted list          :  [1, 2, 3, 4, 5, 6, 7, 8, 9]\n",
      "Original List        :  [9, 1, 8, 2, 7, 3, 6, 4, 5]\n"
     ]
    }
   ],
   "source": [
    "print(\"Original List        : \", li)\n",
    "print(\"Sorted list          : \", s_li)\n",
    "print(\"Original List        : \", li)"
   ]
  },
  {
   "cell_type": "code",
   "execution_count": 4,
   "metadata": {
    "ExecuteTime": {
     "end_time": "2021-09-13T03:44:24.046043Z",
     "start_time": "2021-09-13T03:44:24.033043Z"
    }
   },
   "outputs": [
    {
     "name": "stdout",
     "output_type": "stream",
     "text": [
      "Sorting using list.sort method --- INPLACE SORTING\n",
      "Original List        :  [1, 2, 3, 4, 5, 6, 7, 8, 9]\n"
     ]
    }
   ],
   "source": [
    "print(\"Sorting using list.sort method --- INPLACE SORTING\")\n",
    "li.sort() # IN-PLACE SORTING\n",
    "print(\"Original List        : \", li)"
   ]
  },
  {
   "cell_type": "code",
   "execution_count": null,
   "metadata": {},
   "outputs": [],
   "source": []
  },
  {
   "cell_type": "markdown",
   "metadata": {},
   "source": [
    "### Reverse Sorting"
   ]
  },
  {
   "cell_type": "code",
   "execution_count": 5,
   "metadata": {
    "ExecuteTime": {
     "end_time": "2021-09-13T03:45:36.424053Z",
     "start_time": "2021-09-13T03:45:36.404053Z"
    }
   },
   "outputs": [
    {
     "name": "stdout",
     "output_type": "stream",
     "text": [
      "Original List        :  [9, 1, 8, 2, 7, 3, 6, 4, 5]\n",
      "Sorted list          :  [9, 8, 7, 6, 5, 4, 3, 2, 1]\n",
      "Original List        :  [9, 1, 8, 2, 7, 3, 6, 4, 5]\n",
      "Sorting using list.sort method --- INPLACE SORTING\n",
      "Original List        :  [9, 8, 7, 6, 5, 4, 3, 2, 1]\n"
     ]
    }
   ],
   "source": [
    "li = [9, 1, 8, 2, 7, 3, 6, 4, 5]\n",
    "\n",
    "s_li = sorted(li, reverse=True) # NON-INPLACE SORTING, kwargs, named parameters\n",
    "\n",
    "print(\"Original List        : \", li)\n",
    "print(\"Sorted list          : \", s_li)\n",
    "print(\"Original List        : \", li)\n",
    "\n",
    "print(\"Sorting using list.sort method --- INPLACE SORTING\")\n",
    "li.sort(reverse=True) # IN-PLACE SORTING\n",
    "print(\"Original List        : \", li)"
   ]
  },
  {
   "cell_type": "code",
   "execution_count": null,
   "metadata": {},
   "outputs": [],
   "source": []
  },
  {
   "cell_type": "markdown",
   "metadata": {},
   "source": [
    "### Sorting - Tuple"
   ]
  },
  {
   "cell_type": "code",
   "execution_count": 7,
   "metadata": {
    "ExecuteTime": {
     "end_time": "2021-09-13T03:47:02.427993Z",
     "start_time": "2021-09-13T03:47:02.412993Z"
    }
   },
   "outputs": [
    {
     "name": "stdout",
     "output_type": "stream",
     "text": [
      "Original tuple       :  (-9, 1, 8, 2, 7, 3, 6, 4, 5)\n",
      "Sorted list          :  [8, 7, 6, 5, 4, 3, 2, 1, -9]\n",
      "Original tuple       :  (-9, 1, 8, 2, 7, 3, 6, 4, 5)\n",
      "Sorted tuple         :  (8, 7, 6, 5, 4, 3, 2, 1, -9)\n"
     ]
    }
   ],
   "source": [
    "t = (-9, 1, 8, 2, 7, 3, 6, 4, 5)\n",
    "\n",
    "s_li = sorted(t, reverse=True) # NON-INPLACE SORTING\n",
    "\n",
    "print(\"Original tuple       : \", t)\n",
    "print(\"Sorted list          : \", s_li)\n",
    "print(\"Original tuple       : \", t)\n",
    "print(\"Sorted tuple         : \", tuple(s_li))\n",
    "\n",
    "# There is no IN-PLACE SORTING for tuple (IMMUTABLE)\n",
    "\n"
   ]
  },
  {
   "cell_type": "code",
   "execution_count": null,
   "metadata": {},
   "outputs": [],
   "source": []
  },
  {
   "cell_type": "markdown",
   "metadata": {},
   "source": [
    "### Sorting - Dict"
   ]
  },
  {
   "cell_type": "code",
   "execution_count": 8,
   "metadata": {
    "ExecuteTime": {
     "end_time": "2021-09-13T03:47:35.930551Z",
     "start_time": "2021-09-13T03:47:35.913553Z"
    }
   },
   "outputs": [
    {
     "name": "stdout",
     "output_type": "stream",
     "text": [
      "Original Dict        :  {'A': 1, 'D': 4, 'B': 2, 'C': 3}\n",
      "Sorted dict(keys)    :  ['A', 'B', 'C', 'D']\n",
      "Sorted dict(values)  :  [1, 2, 3, 4]\n"
     ]
    }
   ],
   "source": [
    "# Sorting on Dictionaries\n",
    "d = {\"A\": 1, \"D\": 4, \"B\": 2, \"C\": 3}\n",
    "\n",
    "s_d = sorted(d)\n",
    "s_d_values = sorted(d.values())\n",
    "\n",
    "print(\"Original Dict        : \", d)\n",
    "print(\"Sorted dict(keys)    : \", s_d)\n",
    "print(\"Sorted dict(values)  : \", s_d_values)"
   ]
  },
  {
   "cell_type": "code",
   "execution_count": null,
   "metadata": {},
   "outputs": [],
   "source": []
  },
  {
   "cell_type": "markdown",
   "metadata": {},
   "source": [
    "### Sorting - Keys"
   ]
  },
  {
   "cell_type": "code",
   "execution_count": null,
   "metadata": {},
   "outputs": [],
   "source": [
    "# Sorting based on keys\n",
    "li = [-9, 1, 8, 2, -7, 3, 6, -4, 5]\n",
    "s_li = sorted(li, key=abs)\n",
    "# s_li = sorted(li)\n",
    "\n",
    "print(\"Original list       : \", li)\n",
    "print(\"Sorted list(abs)    : \", s_li)\n",
    "\n",
    "li.sort(key=abs)\n",
    "print(\"Original List       : \", li)"
   ]
  },
  {
   "cell_type": "code",
   "execution_count": null,
   "metadata": {},
   "outputs": [],
   "source": [
    "# sorted()"
   ]
  }
 ],
 "metadata": {
  "kernelspec": {
   "display_name": "Python 3",
   "language": "python",
   "name": "python3"
  },
  "language_info": {
   "codemirror_mode": {
    "name": "ipython",
    "version": 3
   },
   "file_extension": ".py",
   "mimetype": "text/x-python",
   "name": "python",
   "nbconvert_exporter": "python",
   "pygments_lexer": "ipython3",
   "version": "3.8.3"
  },
  "toc": {
   "base_numbering": 1,
   "nav_menu": {},
   "number_sections": true,
   "sideBar": true,
   "skip_h1_title": false,
   "title_cell": "Table of Contents",
   "title_sidebar": "Contents",
   "toc_cell": false,
   "toc_position": {},
   "toc_section_display": true,
   "toc_window_display": false
  }
 },
 "nbformat": 4,
 "nbformat_minor": 4
}
