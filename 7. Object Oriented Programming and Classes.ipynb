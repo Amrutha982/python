{
 "cells": [
  {
   "cell_type": "code",
   "execution_count": null,
   "metadata": {},
   "outputs": [],
   "source": [
    "# Class is combination of variables and functions, access via objects\n",
    "# Template - Used for creating objects\n",
    "# Real world entity - objective manner - virtual\n",
    "# Parent Class & Child class\n",
    "# Group of process\n",
    "# Blueprint of program is class\n",
    "# objects is a collection of data\n",
    "# Instance of class is object\n",
    "# object is identity, class -> desc of identity -> Multiple\n",
    "# anything which we can define\n",
    "# Reuse, ease in maintanence, code break down, related things together\n",
    "# Mobile Phones , Moulds, Vehicles\n"
   ]
  },
  {
   "cell_type": "code",
   "execution_count": null,
   "metadata": {},
   "outputs": [],
   "source": [
    "# Mould -> Class\n",
    "# Idol  -> Object (Instance)\n",
    "# Class A => Obj1, Obj2"
   ]
  },
  {
   "cell_type": "markdown",
   "metadata": {},
   "source": [
    "### Object Oriented Programming\n",
    "* Class\n",
    "* Object (Instance)\n",
    "* Class is like a Template/Blueprint/Mould/Defination\n",
    "* Object is instance of class\n",
    "* Class - behavior, blue print, template, user defined data structure\n",
    "* Encapsulation, inheritance, poly, abstraction\n",
    "* State and Behavior\n",
    "* Bundling"
   ]
  },
  {
   "cell_type": "code",
   "execution_count": null,
   "metadata": {},
   "outputs": [],
   "source": [
    "for item in range(1, 5):\n",
    "    pass\n",
    "# Pass -> Does Nothing, Syntax Filter"
   ]
  },
  {
   "cell_type": "code",
   "execution_count": null,
   "metadata": {},
   "outputs": [],
   "source": [
    "def simpleFunction():\n",
    "    pass"
   ]
  },
  {
   "cell_type": "code",
   "execution_count": 1,
   "metadata": {
    "ExecuteTime": {
     "end_time": "2021-09-13T02:12:41.976884Z",
     "start_time": "2021-09-13T02:12:41.969882Z"
    }
   },
   "outputs": [],
   "source": [
    "# Mould\n",
    "class Employee:\n",
    "    pass"
   ]
  },
  {
   "cell_type": "code",
   "execution_count": 2,
   "metadata": {
    "ExecuteTime": {
     "end_time": "2021-09-13T02:13:02.856905Z",
     "start_time": "2021-09-13T02:13:02.841338Z"
    }
   },
   "outputs": [],
   "source": [
    "# Create Idols (Objects / Instances)\n",
    "e1 = Employee()\n",
    "e2 = Employee()"
   ]
  },
  {
   "cell_type": "code",
   "execution_count": 3,
   "metadata": {
    "ExecuteTime": {
     "end_time": "2021-09-13T02:13:12.375950Z",
     "start_time": "2021-09-13T02:13:12.353524Z"
    }
   },
   "outputs": [
    {
     "name": "stdout",
     "output_type": "stream",
     "text": [
      "Type of e1:  <class '__main__.Employee'>\n",
      "Type of e2:  <class '__main__.Employee'>\n"
     ]
    }
   ],
   "source": [
    "print(\"Type of e1: \", type(e1))\n",
    "print(\"Type of e2: \", type(e2))"
   ]
  },
  {
   "cell_type": "code",
   "execution_count": 4,
   "metadata": {
    "ExecuteTime": {
     "end_time": "2021-09-13T02:13:45.240361Z",
     "start_time": "2021-09-13T02:13:45.235363Z"
    }
   },
   "outputs": [
    {
     "name": "stdout",
     "output_type": "stream",
     "text": [
      "<class 'int'>\n"
     ]
    }
   ],
   "source": [
    "i = 10\n",
    "print(type(i))"
   ]
  },
  {
   "cell_type": "code",
   "execution_count": 5,
   "metadata": {
    "ExecuteTime": {
     "end_time": "2021-09-13T02:16:14.926744Z",
     "start_time": "2021-09-13T02:16:14.918738Z"
    }
   },
   "outputs": [],
   "source": [
    "i = \"Hello\""
   ]
  },
  {
   "cell_type": "code",
   "execution_count": 6,
   "metadata": {
    "ExecuteTime": {
     "end_time": "2021-09-13T02:16:15.818709Z",
     "start_time": "2021-09-13T02:16:15.800817Z"
    }
   },
   "outputs": [
    {
     "name": "stdout",
     "output_type": "stream",
     "text": [
      "<class 'str'>\n"
     ]
    }
   ],
   "source": [
    "print(type(i))"
   ]
  },
  {
   "cell_type": "code",
   "execution_count": 7,
   "metadata": {
    "ExecuteTime": {
     "end_time": "2021-09-13T02:16:43.513212Z",
     "start_time": "2021-09-13T02:16:43.502215Z"
    }
   },
   "outputs": [
    {
     "name": "stdout",
     "output_type": "stream",
     "text": [
      "ID of e1:  2509227109200\n",
      "ID of e2:  2509227107952\n"
     ]
    }
   ],
   "source": [
    "print(\"ID of e1: \", id(e1))\n",
    "print(\"ID of e2: \", id(e2))"
   ]
  },
  {
   "cell_type": "code",
   "execution_count": null,
   "metadata": {},
   "outputs": [],
   "source": []
  },
  {
   "cell_type": "code",
   "execution_count": 8,
   "metadata": {
    "ExecuteTime": {
     "end_time": "2021-09-13T02:17:25.612599Z",
     "start_time": "2021-09-13T02:17:25.595600Z"
    }
   },
   "outputs": [],
   "source": [
    "# docstring(s)"
   ]
  },
  {
   "cell_type": "code",
   "execution_count": 9,
   "metadata": {
    "ExecuteTime": {
     "end_time": "2021-09-13T02:17:27.157747Z",
     "start_time": "2021-09-13T02:17:27.146747Z"
    }
   },
   "outputs": [],
   "source": [
    "class Employee:\n",
    "    '''\n",
    "    Help: An Employee class documentation\n",
    "    The instance of class can be used to create and manage Employee data\n",
    "    It stores info like, name, address, education details etc\n",
    "    '''\n",
    "    pass"
   ]
  },
  {
   "cell_type": "code",
   "execution_count": 10,
   "metadata": {
    "ExecuteTime": {
     "end_time": "2021-09-13T02:17:55.318751Z",
     "start_time": "2021-09-13T02:17:55.295750Z"
    }
   },
   "outputs": [
    {
     "name": "stdout",
     "output_type": "stream",
     "text": [
      "Help on class list in module builtins:\n",
      "\n",
      "class list(object)\n",
      " |  list(iterable=(), /)\n",
      " |  \n",
      " |  Built-in mutable sequence.\n",
      " |  \n",
      " |  If no argument is given, the constructor creates a new empty list.\n",
      " |  The argument must be an iterable if specified.\n",
      " |  \n",
      " |  Methods defined here:\n",
      " |  \n",
      " |  __add__(self, value, /)\n",
      " |      Return self+value.\n",
      " |  \n",
      " |  __contains__(self, key, /)\n",
      " |      Return key in self.\n",
      " |  \n",
      " |  __delitem__(self, key, /)\n",
      " |      Delete self[key].\n",
      " |  \n",
      " |  __eq__(self, value, /)\n",
      " |      Return self==value.\n",
      " |  \n",
      " |  __ge__(self, value, /)\n",
      " |      Return self>=value.\n",
      " |  \n",
      " |  __getattribute__(self, name, /)\n",
      " |      Return getattr(self, name).\n",
      " |  \n",
      " |  __getitem__(...)\n",
      " |      x.__getitem__(y) <==> x[y]\n",
      " |  \n",
      " |  __gt__(self, value, /)\n",
      " |      Return self>value.\n",
      " |  \n",
      " |  __iadd__(self, value, /)\n",
      " |      Implement self+=value.\n",
      " |  \n",
      " |  __imul__(self, value, /)\n",
      " |      Implement self*=value.\n",
      " |  \n",
      " |  __init__(self, /, *args, **kwargs)\n",
      " |      Initialize self.  See help(type(self)) for accurate signature.\n",
      " |  \n",
      " |  __iter__(self, /)\n",
      " |      Implement iter(self).\n",
      " |  \n",
      " |  __le__(self, value, /)\n",
      " |      Return self<=value.\n",
      " |  \n",
      " |  __len__(self, /)\n",
      " |      Return len(self).\n",
      " |  \n",
      " |  __lt__(self, value, /)\n",
      " |      Return self<value.\n",
      " |  \n",
      " |  __mul__(self, value, /)\n",
      " |      Return self*value.\n",
      " |  \n",
      " |  __ne__(self, value, /)\n",
      " |      Return self!=value.\n",
      " |  \n",
      " |  __repr__(self, /)\n",
      " |      Return repr(self).\n",
      " |  \n",
      " |  __reversed__(self, /)\n",
      " |      Return a reverse iterator over the list.\n",
      " |  \n",
      " |  __rmul__(self, value, /)\n",
      " |      Return value*self.\n",
      " |  \n",
      " |  __setitem__(self, key, value, /)\n",
      " |      Set self[key] to value.\n",
      " |  \n",
      " |  __sizeof__(self, /)\n",
      " |      Return the size of the list in memory, in bytes.\n",
      " |  \n",
      " |  append(self, object, /)\n",
      " |      Append object to the end of the list.\n",
      " |  \n",
      " |  clear(self, /)\n",
      " |      Remove all items from list.\n",
      " |  \n",
      " |  copy(self, /)\n",
      " |      Return a shallow copy of the list.\n",
      " |  \n",
      " |  count(self, value, /)\n",
      " |      Return number of occurrences of value.\n",
      " |  \n",
      " |  extend(self, iterable, /)\n",
      " |      Extend list by appending elements from the iterable.\n",
      " |  \n",
      " |  index(self, value, start=0, stop=9223372036854775807, /)\n",
      " |      Return first index of value.\n",
      " |      \n",
      " |      Raises ValueError if the value is not present.\n",
      " |  \n",
      " |  insert(self, index, object, /)\n",
      " |      Insert object before index.\n",
      " |  \n",
      " |  pop(self, index=-1, /)\n",
      " |      Remove and return item at index (default last).\n",
      " |      \n",
      " |      Raises IndexError if list is empty or index is out of range.\n",
      " |  \n",
      " |  remove(self, value, /)\n",
      " |      Remove first occurrence of value.\n",
      " |      \n",
      " |      Raises ValueError if the value is not present.\n",
      " |  \n",
      " |  reverse(self, /)\n",
      " |      Reverse *IN PLACE*.\n",
      " |  \n",
      " |  sort(self, /, *, key=None, reverse=False)\n",
      " |      Sort the list in ascending order and return None.\n",
      " |      \n",
      " |      The sort is in-place (i.e. the list itself is modified) and stable (i.e. the\n",
      " |      order of two equal elements is maintained).\n",
      " |      \n",
      " |      If a key function is given, apply it once to each list item and sort them,\n",
      " |      ascending or descending, according to their function values.\n",
      " |      \n",
      " |      The reverse flag can be set to sort in descending order.\n",
      " |  \n",
      " |  ----------------------------------------------------------------------\n",
      " |  Static methods defined here:\n",
      " |  \n",
      " |  __new__(*args, **kwargs) from builtins.type\n",
      " |      Create and return a new object.  See help(type) for accurate signature.\n",
      " |  \n",
      " |  ----------------------------------------------------------------------\n",
      " |  Data and other attributes defined here:\n",
      " |  \n",
      " |  __hash__ = None\n",
      "\n"
     ]
    }
   ],
   "source": [
    "help(list)"
   ]
  },
  {
   "cell_type": "code",
   "execution_count": 11,
   "metadata": {
    "ExecuteTime": {
     "end_time": "2021-09-13T02:18:49.442140Z",
     "start_time": "2021-09-13T02:18:49.430560Z"
    }
   },
   "outputs": [
    {
     "name": "stdout",
     "output_type": "stream",
     "text": [
      "Help on class Employee in module __main__:\n",
      "\n",
      "class Employee(builtins.object)\n",
      " |  Help: An Employee class documentation\n",
      " |  The instance of class can be used to create and manage Employee data\n",
      " |  It stores info like, name, address, education details etc\n",
      " |  \n",
      " |  Data descriptors defined here:\n",
      " |  \n",
      " |  __dict__\n",
      " |      dictionary for instance variables (if defined)\n",
      " |  \n",
      " |  __weakref__\n",
      " |      list of weak references to the object (if defined)\n",
      "\n"
     ]
    }
   ],
   "source": [
    "help(Employee)"
   ]
  },
  {
   "cell_type": "code",
   "execution_count": 12,
   "metadata": {
    "ExecuteTime": {
     "end_time": "2021-09-13T02:19:17.567150Z",
     "start_time": "2021-09-13T02:19:17.562152Z"
    }
   },
   "outputs": [],
   "source": [
    "e1 = Employee()"
   ]
  },
  {
   "cell_type": "code",
   "execution_count": 13,
   "metadata": {
    "ExecuteTime": {
     "end_time": "2021-09-13T02:19:19.331596Z",
     "start_time": "2021-09-13T02:19:19.313596Z"
    }
   },
   "outputs": [
    {
     "name": "stdout",
     "output_type": "stream",
     "text": [
      "Employee e1:  <__main__.Employee object at 0x0000024839972F40>\n"
     ]
    }
   ],
   "source": [
    "print(\"Employee e1: \", e1)"
   ]
  },
  {
   "cell_type": "code",
   "execution_count": 14,
   "metadata": {
    "ExecuteTime": {
     "end_time": "2021-09-13T02:19:21.355015Z",
     "start_time": "2021-09-13T02:19:21.341012Z"
    }
   },
   "outputs": [
    {
     "name": "stdout",
     "output_type": "stream",
     "text": [
      "Employee dict:  {'__module__': '__main__', '__doc__': '\\n    Help: An Employee class documentation\\n    The instance of class can be used to create and manage Employee data\\n    It stores info like, name, address, education details etc\\n    ', '__dict__': <attribute '__dict__' of 'Employee' objects>, '__weakref__': <attribute '__weakref__' of 'Employee' objects>}\n"
     ]
    }
   ],
   "source": [
    "print(\"Employee dict: \", Employee.__dict__)"
   ]
  },
  {
   "cell_type": "code",
   "execution_count": 15,
   "metadata": {
    "ExecuteTime": {
     "end_time": "2021-09-13T02:20:48.779620Z",
     "start_time": "2021-09-13T02:20:48.760597Z"
    }
   },
   "outputs": [
    {
     "name": "stdout",
     "output_type": "stream",
     "text": [
      "e1 dict:  {}\n"
     ]
    }
   ],
   "source": [
    "print(\"e1 dict: \", e1.__dict__)"
   ]
  },
  {
   "cell_type": "code",
   "execution_count": null,
   "metadata": {},
   "outputs": [],
   "source": []
  },
  {
   "cell_type": "code",
   "execution_count": 18,
   "metadata": {
    "ExecuteTime": {
     "end_time": "2021-09-13T02:22:26.161140Z",
     "start_time": "2021-09-13T02:22:26.150143Z"
    }
   },
   "outputs": [],
   "source": [
    "class Employee:\n",
    "    def __init__(self, firstname, lastname):\n",
    "        self.fn = firstname\n",
    "        self.ln = lastname"
   ]
  },
  {
   "cell_type": "code",
   "execution_count": 19,
   "metadata": {
    "ExecuteTime": {
     "end_time": "2021-09-13T02:23:16.952645Z",
     "start_time": "2021-09-13T02:23:16.944648Z"
    }
   },
   "outputs": [],
   "source": [
    "# __ => Double Underscore => Dounder\n",
    "# __init__ => similar to constructors in other languages"
   ]
  },
  {
   "cell_type": "code",
   "execution_count": 17,
   "metadata": {
    "ExecuteTime": {
     "end_time": "2021-09-13T02:21:45.495782Z",
     "start_time": "2021-09-13T02:21:45.226763Z"
    }
   },
   "outputs": [
    {
     "ename": "TypeError",
     "evalue": "__init__() missing 2 required positional arguments: 'firstname' and 'lastname'",
     "output_type": "error",
     "traceback": [
      "\u001b[1;31m---------------------------------------------------------------------------\u001b[0m",
      "\u001b[1;31mTypeError\u001b[0m                                 Traceback (most recent call last)",
      "\u001b[1;32m<ipython-input-17-1be26d5e8fe6>\u001b[0m in \u001b[0;36m<module>\u001b[1;34m\u001b[0m\n\u001b[1;32m----> 1\u001b[1;33m \u001b[0me1\u001b[0m \u001b[1;33m=\u001b[0m \u001b[0mEmployee\u001b[0m\u001b[1;33m(\u001b[0m\u001b[1;33m)\u001b[0m\u001b[1;33m\u001b[0m\u001b[1;33m\u001b[0m\u001b[0m\n\u001b[0m",
      "\u001b[1;31mTypeError\u001b[0m: __init__() missing 2 required positional arguments: 'firstname' and 'lastname'"
     ]
    }
   ],
   "source": [
    "e1 = Employee()"
   ]
  },
  {
   "cell_type": "code",
   "execution_count": 20,
   "metadata": {
    "ExecuteTime": {
     "end_time": "2021-09-13T02:25:20.403915Z",
     "start_time": "2021-09-13T02:25:20.397914Z"
    }
   },
   "outputs": [],
   "source": [
    "e1 = Employee(\"Virat\", \"Kohli\")"
   ]
  },
  {
   "cell_type": "code",
   "execution_count": 21,
   "metadata": {
    "ExecuteTime": {
     "end_time": "2021-09-13T02:25:31.792787Z",
     "start_time": "2021-09-13T02:25:31.776789Z"
    }
   },
   "outputs": [
    {
     "name": "stdout",
     "output_type": "stream",
     "text": [
      "e1 dict:  {'fn': 'Virat', 'ln': 'Kohli'}\n"
     ]
    }
   ],
   "source": [
    "print(\"e1 dict: \", e1.__dict__)"
   ]
  },
  {
   "cell_type": "code",
   "execution_count": 22,
   "metadata": {
    "ExecuteTime": {
     "end_time": "2021-09-13T02:25:56.513468Z",
     "start_time": "2021-09-13T02:25:56.496466Z"
    }
   },
   "outputs": [],
   "source": [
    "e2 = Employee(\"MS\", \"Dhoni\")"
   ]
  },
  {
   "cell_type": "code",
   "execution_count": 24,
   "metadata": {
    "ExecuteTime": {
     "end_time": "2021-09-13T02:28:33.718264Z",
     "start_time": "2021-09-13T02:28:33.701734Z"
    }
   },
   "outputs": [
    {
     "name": "stdout",
     "output_type": "stream",
     "text": [
      "e2 dict:  {'fn': 'MS', 'ln': 'Dhoni'}\n"
     ]
    }
   ],
   "source": [
    "print(\"e2 dict: \", e2.__dict__)"
   ]
  },
  {
   "cell_type": "code",
   "execution_count": 25,
   "metadata": {
    "ExecuteTime": {
     "end_time": "2021-09-13T02:28:44.985464Z",
     "start_time": "2021-09-13T02:28:44.976467Z"
    }
   },
   "outputs": [
    {
     "name": "stdout",
     "output_type": "stream",
     "text": [
      "Employee dict:  {'__module__': '__main__', '__init__': <function Employee.__init__ at 0x0000024839A3E3A0>, '__dict__': <attribute '__dict__' of 'Employee' objects>, '__weakref__': <attribute '__weakref__' of 'Employee' objects>, '__doc__': None}\n"
     ]
    }
   ],
   "source": [
    "print(\"Employee dict: \", Employee.__dict__)"
   ]
  },
  {
   "cell_type": "code",
   "execution_count": null,
   "metadata": {},
   "outputs": [],
   "source": []
  },
  {
   "cell_type": "code",
   "execution_count": null,
   "metadata": {},
   "outputs": [],
   "source": [
    "# 1. Correct\n",
    "# 2. InCorrect"
   ]
  },
  {
   "cell_type": "code",
   "execution_count": 43,
   "metadata": {
    "ExecuteTime": {
     "end_time": "2021-09-13T02:56:19.037570Z",
     "start_time": "2021-09-13T02:56:18.994568Z"
    }
   },
   "outputs": [],
   "source": [
    "class Student:\n",
    "    def __init__(self, name):\n",
    "        self.name = name\n",
    "        self.grades = []\n",
    "    \n",
    "    def addGrade(self, marks):\n",
    "        '''\n",
    "        Call this function to add any grade for the student\n",
    "        '''\n",
    "        self.grades.append(marks)\n",
    "        \n",
    "    def getMaxMarks(self):\n",
    "        return max(self.grades)\n",
    "    \n",
    "    def getMinMarks(self):\n",
    "        return min(self.grades)\n",
    "    \n",
    "    def getAverage(self):\n",
    "        return sum(self.grades) / len(self.grades)"
   ]
  },
  {
   "cell_type": "code",
   "execution_count": 44,
   "metadata": {
    "ExecuteTime": {
     "end_time": "2021-09-13T02:56:19.523815Z",
     "start_time": "2021-09-13T02:56:19.516816Z"
    }
   },
   "outputs": [],
   "source": [
    "s1 = Student(\"Rahane\")"
   ]
  },
  {
   "cell_type": "code",
   "execution_count": 45,
   "metadata": {
    "ExecuteTime": {
     "end_time": "2021-09-13T02:56:19.962838Z",
     "start_time": "2021-09-13T02:56:19.942842Z"
    }
   },
   "outputs": [
    {
     "name": "stdout",
     "output_type": "stream",
     "text": [
      "s1 dict:  {'name': 'Rahane', 'grades': []}\n"
     ]
    }
   ],
   "source": [
    "print(\"s1 dict: \", s1.__dict__)"
   ]
  },
  {
   "cell_type": "code",
   "execution_count": 46,
   "metadata": {
    "ExecuteTime": {
     "end_time": "2021-09-13T02:56:20.297078Z",
     "start_time": "2021-09-13T02:56:20.291081Z"
    }
   },
   "outputs": [
    {
     "name": "stdout",
     "output_type": "stream",
     "text": [
      "S1 details:  <__main__.Student object at 0x000002483BBD2850>\n"
     ]
    }
   ],
   "source": [
    "print(\"S1 details: \", s1)"
   ]
  },
  {
   "cell_type": "code",
   "execution_count": 47,
   "metadata": {
    "ExecuteTime": {
     "end_time": "2021-09-13T02:56:20.583331Z",
     "start_time": "2021-09-13T02:56:20.570328Z"
    }
   },
   "outputs": [],
   "source": [
    "s1.addGrade(10)"
   ]
  },
  {
   "cell_type": "code",
   "execution_count": 48,
   "metadata": {
    "ExecuteTime": {
     "end_time": "2021-09-13T02:56:20.769464Z",
     "start_time": "2021-09-13T02:56:20.751434Z"
    }
   },
   "outputs": [
    {
     "name": "stdout",
     "output_type": "stream",
     "text": [
      "s1 dict:  {'name': 'Rahane', 'grades': [10]}\n"
     ]
    }
   ],
   "source": [
    "print(\"s1 dict: \", s1.__dict__)"
   ]
  },
  {
   "cell_type": "code",
   "execution_count": 49,
   "metadata": {
    "ExecuteTime": {
     "end_time": "2021-09-13T02:56:20.973828Z",
     "start_time": "2021-09-13T02:56:20.956830Z"
    }
   },
   "outputs": [],
   "source": [
    "s2 = Student(\"Ashwin\")"
   ]
  },
  {
   "cell_type": "code",
   "execution_count": 50,
   "metadata": {
    "ExecuteTime": {
     "end_time": "2021-09-13T02:56:21.244041Z",
     "start_time": "2021-09-13T02:56:21.233049Z"
    }
   },
   "outputs": [],
   "source": [
    "s2.addGrade(20)"
   ]
  },
  {
   "cell_type": "code",
   "execution_count": 51,
   "metadata": {
    "ExecuteTime": {
     "end_time": "2021-09-13T02:56:21.433825Z",
     "start_time": "2021-09-13T02:56:21.416825Z"
    }
   },
   "outputs": [
    {
     "name": "stdout",
     "output_type": "stream",
     "text": [
      "s2 dict:  {'name': 'Ashwin', 'grades': [20]}\n"
     ]
    }
   ],
   "source": [
    "print(\"s2 dict: \", s2.__dict__)"
   ]
  },
  {
   "cell_type": "code",
   "execution_count": 52,
   "metadata": {
    "ExecuteTime": {
     "end_time": "2021-09-13T02:56:21.671914Z",
     "start_time": "2021-09-13T02:56:21.662917Z"
    }
   },
   "outputs": [],
   "source": [
    "s1.addGrade(30)\n",
    "s1.addGrade(40)\n",
    "s1.addGrade(50)"
   ]
  },
  {
   "cell_type": "code",
   "execution_count": 53,
   "metadata": {
    "ExecuteTime": {
     "end_time": "2021-09-13T02:56:22.064734Z",
     "start_time": "2021-09-13T02:56:22.053733Z"
    }
   },
   "outputs": [
    {
     "name": "stdout",
     "output_type": "stream",
     "text": [
      "s1 dict:  {'name': 'Rahane', 'grades': [10, 30, 40, 50]}\n"
     ]
    }
   ],
   "source": [
    "print(\"s1 dict: \", s1.__dict__)"
   ]
  },
  {
   "cell_type": "code",
   "execution_count": 54,
   "metadata": {
    "ExecuteTime": {
     "end_time": "2021-09-13T02:56:22.688729Z",
     "start_time": "2021-09-13T02:56:22.670725Z"
    }
   },
   "outputs": [
    {
     "data": {
      "text/plain": [
       "32.5"
      ]
     },
     "execution_count": 54,
     "metadata": {},
     "output_type": "execute_result"
    }
   ],
   "source": [
    "s1.getAverage()"
   ]
  },
  {
   "cell_type": "code",
   "execution_count": 56,
   "metadata": {
    "ExecuteTime": {
     "end_time": "2021-09-13T02:56:30.084645Z",
     "start_time": "2021-09-13T02:56:30.065644Z"
    }
   },
   "outputs": [
    {
     "data": {
      "text/plain": [
       "20.0"
      ]
     },
     "execution_count": 56,
     "metadata": {},
     "output_type": "execute_result"
    }
   ],
   "source": [
    "s2.getAverage()"
   ]
  },
  {
   "cell_type": "code",
   "execution_count": 58,
   "metadata": {
    "ExecuteTime": {
     "end_time": "2021-09-13T02:56:38.765846Z",
     "start_time": "2021-09-13T02:56:38.759846Z"
    }
   },
   "outputs": [
    {
     "data": {
      "text/plain": [
       "50"
      ]
     },
     "execution_count": 58,
     "metadata": {},
     "output_type": "execute_result"
    }
   ],
   "source": [
    "s1.getMaxMarks()"
   ]
  },
  {
   "cell_type": "code",
   "execution_count": 59,
   "metadata": {
    "ExecuteTime": {
     "end_time": "2021-09-13T02:56:44.158788Z",
     "start_time": "2021-09-13T02:56:44.143787Z"
    }
   },
   "outputs": [
    {
     "data": {
      "text/plain": [
       "10"
      ]
     },
     "execution_count": 59,
     "metadata": {},
     "output_type": "execute_result"
    }
   ],
   "source": [
    "s1.getMinMarks()"
   ]
  },
  {
   "cell_type": "code",
   "execution_count": 61,
   "metadata": {
    "ExecuteTime": {
     "end_time": "2021-09-13T02:58:15.811340Z",
     "start_time": "2021-09-13T02:58:15.805340Z"
    }
   },
   "outputs": [
    {
     "name": "stdout",
     "output_type": "stream",
     "text": [
      "26.25\n"
     ]
    }
   ],
   "source": [
    "students_Avg = (s1.getAverage() + s2.getAverage()) / 2\n",
    "print(students_Avg)"
   ]
  },
  {
   "cell_type": "code",
   "execution_count": 60,
   "metadata": {
    "ExecuteTime": {
     "end_time": "2021-09-13T02:56:55.769068Z",
     "start_time": "2021-09-13T02:56:55.759067Z"
    }
   },
   "outputs": [
    {
     "name": "stdout",
     "output_type": "stream",
     "text": [
      "Help on class Student in module __main__:\n",
      "\n",
      "class Student(builtins.object)\n",
      " |  Student(name)\n",
      " |  \n",
      " |  Methods defined here:\n",
      " |  \n",
      " |  __init__(self, name)\n",
      " |      Initialize self.  See help(type(self)) for accurate signature.\n",
      " |  \n",
      " |  addGrade(self, marks)\n",
      " |      Call this function to add any grade for the student\n",
      " |  \n",
      " |  getAverage(self)\n",
      " |  \n",
      " |  getMaxMarks(self)\n",
      " |  \n",
      " |  getMinMarks(self)\n",
      " |  \n",
      " |  ----------------------------------------------------------------------\n",
      " |  Data descriptors defined here:\n",
      " |  \n",
      " |  __dict__\n",
      " |      dictionary for instance variables (if defined)\n",
      " |  \n",
      " |  __weakref__\n",
      " |      list of weak references to the object (if defined)\n",
      "\n"
     ]
    }
   ],
   "source": [
    "help(Student)"
   ]
  },
  {
   "cell_type": "code",
   "execution_count": null,
   "metadata": {},
   "outputs": [],
   "source": []
  },
  {
   "cell_type": "code",
   "execution_count": 62,
   "metadata": {
    "ExecuteTime": {
     "end_time": "2021-09-13T03:07:03.379006Z",
     "start_time": "2021-09-13T03:07:03.367003Z"
    }
   },
   "outputs": [],
   "source": [
    "class Employee:\n",
    "    def __init__(self, firstname, lastname, age, salary):\n",
    "        self.fn = firstname\n",
    "        self.ln = lastname\n",
    "        self.age = age\n",
    "        self.salary = salary\n",
    "        self.email = \"{}.{}@gmail.com\".format(self.fn, self.ln)\n",
    "        \n",
    "    def printDetails(self):\n",
    "        print(\"Employee Details: Name: {}, Last Name: {}, Age: {}, Salary: {}, Email: {}\".format(\n",
    "            self.fn, self.ln, self.age, self.salary, self.email))"
   ]
  },
  {
   "cell_type": "code",
   "execution_count": 63,
   "metadata": {
    "ExecuteTime": {
     "end_time": "2021-09-13T03:07:04.475739Z",
     "start_time": "2021-09-13T03:07:04.464744Z"
    }
   },
   "outputs": [],
   "source": [
    "e1 = Employee(\"MS\", \"Dhoni\", 39, 1000)"
   ]
  },
  {
   "cell_type": "code",
   "execution_count": 64,
   "metadata": {
    "ExecuteTime": {
     "end_time": "2021-09-13T03:07:05.997825Z",
     "start_time": "2021-09-13T03:07:05.985828Z"
    }
   },
   "outputs": [
    {
     "name": "stdout",
     "output_type": "stream",
     "text": [
      "Employee Details: Name: MS, Last Name: Dhoni, Age: 39, Salary: 1000, Email: MS.Dhoni@gmail.com\n"
     ]
    }
   ],
   "source": [
    "e1.printDetails()"
   ]
  },
  {
   "cell_type": "code",
   "execution_count": null,
   "metadata": {},
   "outputs": [],
   "source": []
  },
  {
   "cell_type": "code",
   "execution_count": 71,
   "metadata": {
    "ExecuteTime": {
     "end_time": "2021-09-13T03:10:15.201188Z",
     "start_time": "2021-09-13T03:10:15.180190Z"
    }
   },
   "outputs": [],
   "source": [
    "class Employee:\n",
    "    employee_count = 0 # Class Variable\n",
    "    def __init__(self, firstname, lastname, age, salary):\n",
    "        self.fn = firstname # instance\n",
    "        self.ln = lastname\n",
    "        self.age = age\n",
    "        self.salary = salary\n",
    "        self.email = \"{}.{}@gmail.com\".format(self.fn, self.ln)\n",
    "        self.eid = Employee.employee_count\n",
    "        Employee.employee_count += 1 # Employee.employee_count = Employee.employee_count + 1\n",
    "        \n",
    "    def printDetails(self):\n",
    "        print(\"Employee Details: Name: {}, Last Name: {}, Age: {}, Salary: {}, Email: {}, Eid: {}\".format(\n",
    "            self.fn, self.ln, self.age, self.salary, self.email, self.eid))"
   ]
  },
  {
   "cell_type": "code",
   "execution_count": 72,
   "metadata": {
    "ExecuteTime": {
     "end_time": "2021-09-13T03:10:15.545814Z",
     "start_time": "2021-09-13T03:10:15.534817Z"
    }
   },
   "outputs": [],
   "source": [
    "e1 = Employee(\"S\", \"Dhawan\", 32, 100)"
   ]
  },
  {
   "cell_type": "code",
   "execution_count": 73,
   "metadata": {
    "ExecuteTime": {
     "end_time": "2021-09-13T03:10:15.841894Z",
     "start_time": "2021-09-13T03:10:15.820894Z"
    }
   },
   "outputs": [
    {
     "name": "stdout",
     "output_type": "stream",
     "text": [
      "1\n"
     ]
    }
   ],
   "source": [
    "print(e1.employee_count)"
   ]
  },
  {
   "cell_type": "code",
   "execution_count": 74,
   "metadata": {
    "ExecuteTime": {
     "end_time": "2021-09-13T03:10:16.137895Z",
     "start_time": "2021-09-13T03:10:16.118891Z"
    }
   },
   "outputs": [],
   "source": [
    "e2 = Employee(\"P\", \"Shaw\", 27, 50)"
   ]
  },
  {
   "cell_type": "code",
   "execution_count": 75,
   "metadata": {
    "ExecuteTime": {
     "end_time": "2021-09-13T03:10:16.464720Z",
     "start_time": "2021-09-13T03:10:16.445721Z"
    }
   },
   "outputs": [
    {
     "data": {
      "text/plain": [
       "2"
      ]
     },
     "execution_count": 75,
     "metadata": {},
     "output_type": "execute_result"
    }
   ],
   "source": [
    "e2.employee_count"
   ]
  },
  {
   "cell_type": "code",
   "execution_count": 76,
   "metadata": {
    "ExecuteTime": {
     "end_time": "2021-09-13T03:10:23.020036Z",
     "start_time": "2021-09-13T03:10:23.008036Z"
    }
   },
   "outputs": [
    {
     "name": "stdout",
     "output_type": "stream",
     "text": [
      "Employee dict :  {'__module__': '__main__', 'employee_count': 2, '__init__': <function Employee.__init__ at 0x000002483BCE2160>, 'printDetails': <function Employee.printDetails at 0x000002483989A700>, '__dict__': <attribute '__dict__' of 'Employee' objects>, '__weakref__': <attribute '__weakref__' of 'Employee' objects>, '__doc__': None}\n"
     ]
    }
   ],
   "source": [
    "print(\"Employee dict : \", Employee.__dict__)"
   ]
  },
  {
   "cell_type": "code",
   "execution_count": 77,
   "metadata": {
    "ExecuteTime": {
     "end_time": "2021-09-13T03:10:33.226875Z",
     "start_time": "2021-09-13T03:10:33.214878Z"
    }
   },
   "outputs": [
    {
     "name": "stdout",
     "output_type": "stream",
     "text": [
      "e1 dict :  {'fn': 'S', 'ln': 'Dhawan', 'age': 32, 'salary': 100, 'email': 'S.Dhawan@gmail.com', 'eid': 0}\n"
     ]
    }
   ],
   "source": [
    "print(\"e1 dict : \", e1.__dict__)"
   ]
  },
  {
   "cell_type": "code",
   "execution_count": 78,
   "metadata": {
    "ExecuteTime": {
     "end_time": "2021-09-13T03:10:34.113997Z",
     "start_time": "2021-09-13T03:10:34.096999Z"
    }
   },
   "outputs": [
    {
     "name": "stdout",
     "output_type": "stream",
     "text": [
      "e2 dict :  {'fn': 'P', 'ln': 'Shaw', 'age': 27, 'salary': 50, 'email': 'P.Shaw@gmail.com', 'eid': 1}\n"
     ]
    }
   ],
   "source": [
    "print(\"e2 dict : \", e2.__dict__)"
   ]
  },
  {
   "cell_type": "code",
   "execution_count": 79,
   "metadata": {
    "ExecuteTime": {
     "end_time": "2021-09-13T03:12:20.946034Z",
     "start_time": "2021-09-13T03:12:20.937038Z"
    }
   },
   "outputs": [
    {
     "name": "stdout",
     "output_type": "stream",
     "text": [
      "2\n"
     ]
    }
   ],
   "source": [
    "print(e1.employee_count)"
   ]
  },
  {
   "cell_type": "code",
   "execution_count": null,
   "metadata": {},
   "outputs": [],
   "source": []
  },
  {
   "cell_type": "code",
   "execution_count": 80,
   "metadata": {
    "ExecuteTime": {
     "end_time": "2021-09-13T03:12:38.568904Z",
     "start_time": "2021-09-13T03:12:38.555903Z"
    }
   },
   "outputs": [
    {
     "name": "stdout",
     "output_type": "stream",
     "text": [
      "2\n"
     ]
    }
   ],
   "source": [
    "print(Employee.employee_count)"
   ]
  },
  {
   "cell_type": "code",
   "execution_count": 81,
   "metadata": {
    "ExecuteTime": {
     "end_time": "2021-09-13T03:12:40.717747Z",
     "start_time": "2021-09-13T03:12:40.712751Z"
    }
   },
   "outputs": [
    {
     "name": "stdout",
     "output_type": "stream",
     "text": [
      "2\n"
     ]
    }
   ],
   "source": [
    "print(e2.employee_count)"
   ]
  },
  {
   "cell_type": "code",
   "execution_count": null,
   "metadata": {},
   "outputs": [],
   "source": [
    "# Encapsulation\n",
    "# Abstraction\n",
    "# Polymorphism\n",
    "# Inheritance"
   ]
  },
  {
   "cell_type": "code",
   "execution_count": 103,
   "metadata": {
    "ExecuteTime": {
     "end_time": "2021-09-13T03:30:30.203029Z",
     "start_time": "2021-09-13T03:30:30.192030Z"
    }
   },
   "outputs": [],
   "source": [
    "class Employee:\n",
    "    __employee_count = 0 # Class Variable, __ => Private\n",
    "    def __init__(self, firstname, lastname, age, salary):\n",
    "        self.fn = firstname # instance\n",
    "        self.ln = lastname\n",
    "        self.age = age\n",
    "        self.salary = salary\n",
    "        self.email = \"{}.{}@gmail.com\".format(self.fn, self.ln)\n",
    "        Employee.__employee_count += 1 # Employee.employee_count = Employee.employee_count + 1\n",
    "        \n",
    "    def printDetails(self):\n",
    "        print(\"Employee Details: Name: {}, Last Name: {}, Age: {}, Salary: {}, Email: {}\".format(\n",
    "            self.fn, self.ln, self.age, self.salary, self.email))\n",
    "        \n",
    "    @classmethod # decorator\n",
    "    def getEmployeeCount(cls):\n",
    "        return cls.__employee_count"
   ]
  },
  {
   "cell_type": "code",
   "execution_count": 104,
   "metadata": {
    "ExecuteTime": {
     "end_time": "2021-09-13T03:30:30.704491Z",
     "start_time": "2021-09-13T03:30:30.693487Z"
    }
   },
   "outputs": [],
   "source": [
    "e1 = Employee(\"S\", \"Dhawan\", 32, 100)"
   ]
  },
  {
   "cell_type": "code",
   "execution_count": 105,
   "metadata": {
    "ExecuteTime": {
     "end_time": "2021-09-13T03:30:30.904950Z",
     "start_time": "2021-09-13T03:30:30.899946Z"
    }
   },
   "outputs": [
    {
     "name": "stdout",
     "output_type": "stream",
     "text": [
      "1\n"
     ]
    }
   ],
   "source": [
    "print(e1.getEmployeeCount())"
   ]
  },
  {
   "cell_type": "code",
   "execution_count": 106,
   "metadata": {
    "ExecuteTime": {
     "end_time": "2021-09-13T03:30:31.110134Z",
     "start_time": "2021-09-13T03:30:31.086135Z"
    }
   },
   "outputs": [
    {
     "ename": "AttributeError",
     "evalue": "'Employee' object has no attribute '__employee_count'",
     "output_type": "error",
     "traceback": [
      "\u001b[1;31m---------------------------------------------------------------------------\u001b[0m",
      "\u001b[1;31mAttributeError\u001b[0m                            Traceback (most recent call last)",
      "\u001b[1;32m<ipython-input-106-8a39b885502b>\u001b[0m in \u001b[0;36m<module>\u001b[1;34m\u001b[0m\n\u001b[1;32m----> 1\u001b[1;33m \u001b[0mprint\u001b[0m\u001b[1;33m(\u001b[0m\u001b[0me1\u001b[0m\u001b[1;33m.\u001b[0m\u001b[0m__employee_count\u001b[0m\u001b[1;33m)\u001b[0m\u001b[1;33m\u001b[0m\u001b[1;33m\u001b[0m\u001b[0m\n\u001b[0m",
      "\u001b[1;31mAttributeError\u001b[0m: 'Employee' object has no attribute '__employee_count'"
     ]
    }
   ],
   "source": [
    "print(e1.__employee_count)"
   ]
  },
  {
   "cell_type": "code",
   "execution_count": 107,
   "metadata": {
    "ExecuteTime": {
     "end_time": "2021-09-13T03:30:31.266565Z",
     "start_time": "2021-09-13T03:30:31.254441Z"
    }
   },
   "outputs": [
    {
     "name": "stdout",
     "output_type": "stream",
     "text": [
      "1\n"
     ]
    }
   ],
   "source": [
    "print(Employee.getEmployeeCount())"
   ]
  },
  {
   "cell_type": "code",
   "execution_count": null,
   "metadata": {},
   "outputs": [],
   "source": []
  },
  {
   "cell_type": "code",
   "execution_count": null,
   "metadata": {},
   "outputs": [],
   "source": []
  },
  {
   "cell_type": "code",
   "execution_count": null,
   "metadata": {},
   "outputs": [],
   "source": []
  },
  {
   "cell_type": "code",
   "execution_count": null,
   "metadata": {},
   "outputs": [],
   "source": []
  },
  {
   "cell_type": "code",
   "execution_count": null,
   "metadata": {},
   "outputs": [],
   "source": [
    "class Employee:\n",
    "    __employee_count = 0\n",
    "    def __init__(self, firstname, lastname, age, salary):\n",
    "        self.fn = firstname\n",
    "        self.ln = lastname\n",
    "        self.age = age\n",
    "        self.salary = salary\n",
    "        self.email = \"{}.{}@gmail.com\".format(self.fn, self.ln)\n",
    "        Employee.__employee_count += 1 \n",
    "        \n",
    "    def printDetails(self):\n",
    "        print(\"Employee Details: Name: {}, Last Name: {}, Age: {}, Salary: {}, Email: {}\".format(\n",
    "            self.fn, self.ln, self.age, self.salary, self.email))\n",
    "    \n",
    "    @classmethod # decorator\n",
    "    def GetEmployeeCount(cls):\n",
    "        return cls.__employee_count"
   ]
  },
  {
   "cell_type": "code",
   "execution_count": null,
   "metadata": {},
   "outputs": [],
   "source": [
    "e1 = Employee(\"S\", \"Dhawan\", 32, 100)"
   ]
  },
  {
   "cell_type": "code",
   "execution_count": null,
   "metadata": {},
   "outputs": [],
   "source": [
    "print(e1.__employee_count)"
   ]
  },
  {
   "cell_type": "code",
   "execution_count": null,
   "metadata": {},
   "outputs": [],
   "source": [
    "print(Employee.__employee_count)"
   ]
  },
  {
   "cell_type": "code",
   "execution_count": null,
   "metadata": {},
   "outputs": [],
   "source": [
    "print(e1.GetEmployeeCount())"
   ]
  },
  {
   "cell_type": "code",
   "execution_count": null,
   "metadata": {},
   "outputs": [],
   "source": [
    "print(Employee.GetEmployeeCount())"
   ]
  },
  {
   "cell_type": "code",
   "execution_count": null,
   "metadata": {},
   "outputs": [],
   "source": [
    "print(Employee.__dict__)"
   ]
  },
  {
   "cell_type": "code",
   "execution_count": null,
   "metadata": {},
   "outputs": [],
   "source": [
    "print(Employee._Employee__employee_count) # NOT A RECOMMENDED WAY"
   ]
  },
  {
   "cell_type": "code",
   "execution_count": null,
   "metadata": {},
   "outputs": [],
   "source": [
    "print(e1._Employee__employee_count) # NOT A RECOMMENDED WAY"
   ]
  },
  {
   "cell_type": "code",
   "execution_count": null,
   "metadata": {},
   "outputs": [],
   "source": []
  }
 ],
 "metadata": {
  "kernelspec": {
   "display_name": "Python 3",
   "language": "python",
   "name": "python3"
  },
  "language_info": {
   "codemirror_mode": {
    "name": "ipython",
    "version": 3
   },
   "file_extension": ".py",
   "mimetype": "text/x-python",
   "name": "python",
   "nbconvert_exporter": "python",
   "pygments_lexer": "ipython3",
   "version": "3.8.3"
  },
  "toc": {
   "base_numbering": 1,
   "nav_menu": {},
   "number_sections": true,
   "sideBar": true,
   "skip_h1_title": false,
   "title_cell": "Table of Contents",
   "title_sidebar": "Contents",
   "toc_cell": false,
   "toc_position": {},
   "toc_section_display": true,
   "toc_window_display": false
  }
 },
 "nbformat": 4,
 "nbformat_minor": 4
}
